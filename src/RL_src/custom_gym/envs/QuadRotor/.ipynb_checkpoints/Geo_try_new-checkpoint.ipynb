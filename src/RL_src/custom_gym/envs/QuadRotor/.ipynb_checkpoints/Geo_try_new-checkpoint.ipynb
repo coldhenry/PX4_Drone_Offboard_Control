{
 "cells": [
  {
   "cell_type": "code",
   "execution_count": 15,
   "metadata": {},
   "outputs": [],
   "source": [
    "from scipy.integrate import odeint\n",
    "import numpy as np\n",
    "from math import cos, sin\n",
    "import scipy\n",
    "import matplotlib.pyplot as plt\n",
    "\n",
    "# Simulation parameters\n",
    "m = 4.34\n",
    "g = 9.98\n",
    "d = 0.315\n",
    "ctf = 8.004*10e-4\n",
    "J = np.diag([0.0820,0.0845,0.1377])\n",
    "kx = 16*m\n",
    "kv = 5.6*m\n",
    "kr = 8.81;\n",
    "kw = 2.54;\n",
    "e1 = np.array([[1,0,0]])\n",
    "e2 = np.array([0,1,0])\n",
    "e3 = np.array([0,0,1])\n",
    "T = np.array([[1, 1, 1 ,1], \n",
    "              [0, -d, 0, d],\n",
    "              [d, 0, -d, 0],\n",
    "              [-ctf, ctf, -ctf, ctf]])\n"
   ]
  },
  {
   "cell_type": "code",
   "execution_count": 16,
   "metadata": {},
   "outputs": [
    {
     "name": "stdout",
     "output_type": "stream",
     "text": [
      "(1, 3)\n",
      "(3, 1)\n"
     ]
    }
   ],
   "source": [
    "print(e1.shape)\n",
    "print(e1.T.shape)"
   ]
  },
  {
   "cell_type": "code",
   "execution_count": 10,
   "metadata": {},
   "outputs": [
    {
     "name": "stdout",
     "output_type": "stream",
     "text": [
      "[[0.]\n",
      " [0.]\n",
      " [0.]]\n"
     ]
    }
   ],
   "source": [
    "ldv = np.zeros((3,1))\n",
    "lt = 0\n",
    "ld3x = np.zeros((3,1))\n",
    "\n",
    "# x0 = [0;0;0];\n",
    "# v0 = [0;0;0];\n",
    "# R0 = eye(3);\n",
    "# % R0 = [1,0,0;0,-0.9995,-0.0314;0,0.0314,-0.9995];\n",
    "# W0 = [0;0;0];\n",
    "t0 = 0\n"
   ]
  },
  {
   "cell_type": "code",
   "execution_count": null,
   "metadata": {},
   "outputs": [],
   "source": []
  },
  {
   "cell_type": "code",
   "execution_count": 37,
   "metadata": {},
   "outputs": [],
   "source": [
    "def vee_map(skew):\n",
    "    \"\"\"Return the vee map of a vector\n",
    "    \"\"\"\n",
    "\n",
    "    vec = 1/2 * np.array([skew[2,1] - skew[1,2],\n",
    "                          skew[0,2] - skew[2,0],\n",
    "                          skew[1,0] - skew[0,1]])\n",
    "\n",
    "    return vec\n",
    "\n",
    "def hat_map(vec):\n",
    "    \"\"\"Return that hat map of a vector\n",
    "    \n",
    "    Inputs: \n",
    "        vec - 3 element vector\n",
    "    Outputs:\n",
    "        skew - 3,3 skew symmetric matrix\n",
    "    \"\"\"\n",
    "    vec = np.squeeze(vec)\n",
    "    skew = np.array([\n",
    "                    [0, -vec[2], vec[1]],\n",
    "                    [vec[2], 0, -vec[0]],\n",
    "                    [-vec[1], vec[0], 0]])\n",
    "\n",
    "    return skew\n"
   ]
  },
  {
   "cell_type": "code",
   "execution_count": 38,
   "metadata": {},
   "outputs": [],
   "source": [
    "def hat_map(v):\n",
    "\n",
    "    return [[0, -v[2], v[1]], [v[2], 0 ,-v[0]], [-v[1], v[0], 0]]\n",
    "\n",
    "def vee_map(R):\n",
    "    return np.array([R[2, 1],R[0, 2],R[1, 0]])\n"
   ]
  },
  {
   "cell_type": "code",
   "execution_count": null,
   "metadata": {},
   "outputs": [],
   "source": []
  },
  {
   "cell_type": "code",
   "execution_count": 51,
   "metadata": {},
   "outputs": [],
   "source": [
    "F = []\n",
    "def step(y,t):\n",
    "    x_curr = y[0:3]\n",
    "    v_curr = y[3:6]\n",
    "    R = y[6:15].reshape((3,3))\n",
    "    w = y[15:18]\n",
    "    b3 = R[:,2]  \n",
    "    \n",
    "    # parameters\n",
    "    k1 = np.diag([5, 5 ,9])\n",
    "    k2 = np.diag([5, 5 ,10])\n",
    "    \n",
    "#     k1 =  0.12*np.diag([4, 4 ,9.8055*1.2])\n",
    "#     k2 = 0.5*np.diag([4, 4, 10])    \n",
    "#     k1 = 9\n",
    "#     k2 = 10\n",
    "\n",
    "    kR = 200 #50\n",
    "    kOm = 1 #2.5\n",
    "#     kR = 4\n",
    "#     kOm = 4 \n",
    "\n",
    "    # desired states\n",
    "    des_pos = np.array([0.4*t, 0.4*sin(np.pi*t), 0.6*cos(np.pi*t)])\n",
    "    des_vel = np.array([0.4, 0.4* np.pi* cos(np.pi*t), -0.6*np.pi*sin(np.pi*t)])\n",
    "    des_acc = np.array([0, -0.4*np.pi*np.pi*sin(np.pi*t),-0.6*np.pi*np.pi*cos(np.pi*t)])  \n",
    "#     print(des_pos)\n",
    "    b1d = np.array([cos(np.pi*t), sin(np.pi*t), 0])\n",
    "    w_desired = np.array([0,0,0])\n",
    "\n",
    "    # Position Control\n",
    "    pos_e = np.subtract(x_curr, des_pos)\n",
    "    vel_e = np.subtract(v_curr, des_vel)\n",
    "    A = (-np.dot(k1,pos_e) -np.dot(k2,vel_e) + np.dot(m,des_acc) + np.dot(m*g,e3))\n",
    "#     print('A',-np.dot(k1,pos_e))\n",
    "    b3_desired = A/np.linalg.norm(A) \n",
    "#     print('b3',b3)\n",
    "    f = np.dot(A.T,b3)\n",
    "#     print('f',f)\n",
    "#     F.append(f)\n",
    "#     plt.plot(F)\n",
    "\n",
    "    \n",
    "    # Attitude Control\n",
    "\n",
    "    b2d = np.cross(b3_desired,b1d)\n",
    "    b2d = b2d/np.linalg.norm(b2d) \n",
    "#     print('b2d',b2d)\n",
    "    projection_b1d = -np.cross(b3_desired,b2d)\n",
    "    Rd = np.array([np.cross(b2d,b3_desired), b2d,  b3_desired])\n",
    "\n",
    "    # calculating error in angular velocity and attitude\n",
    "    R_e = 1/2 * vee_map(np.subtract(np.dot(Rd.T, R), np.dot(R.T, Rd)))\n",
    "\n",
    "    Om_e = w - np.dot(R.T, (np.dot(Rd,w_desired.T)))\n",
    "\n",
    "    B = np.dot(R.T, np.dot(Rd, w_desired.T))\n",
    "\n",
    "    C = np.dot(hat_map(w), B) - B\n",
    "\n",
    "    M = -np.dot(kR,R_e) - np.dot(kOm,Om_e) + np.cross(w, np.dot(J,w)) - np.dot(J,C)\n",
    "#     F.append(M[1])\n",
    "#     plt.plot(F)\n",
    "    \n",
    "    v_dot = np.dot(-g,e3) + np.dot((f/m)*R, e3)\n",
    "\n",
    "    R_dot = np.dot(R, hat_map(w))    \n",
    "\n",
    "    Omega_dot = (-np.cross(w, np.dot(J,w)) + M )\n",
    "#     print(M)\n",
    "    w1 = Omega_dot[0] / np.diag(J)[0]\n",
    "    w2 = Omega_dot[1] / np.diag(J)[1]\n",
    "    w3 = Omega_dot[2] / np.diag(J)[2]\n",
    "\n",
    "    dydt = np.concatenate((v_curr, v_dot, R_dot.reshape((1,9)),w1,w2,w3), axis=None)\n",
    "    return dydt"
   ]
  },
  {
   "cell_type": "code",
   "execution_count": 52,
   "metadata": {},
   "outputs": [],
   "source": [
    "R0 = np.array([1, 0, 0, 0, 1, 0, 0, 0, 1])\n",
    "y0 = np.concatenate((0, 0, 0.0, 0, 0, 0, R0,0, 0, 0,), axis=None)"
   ]
  },
  {
   "cell_type": "code",
   "execution_count": 57,
   "metadata": {},
   "outputs": [],
   "source": [
    "t = np.linspace(0, 0.1, 20)\n",
    "sol = odeint(step, y0, t)"
   ]
  },
  {
   "cell_type": "code",
   "execution_count": 58,
   "metadata": {},
   "outputs": [
    {
     "data": {
      "image/png": "[encoded data removed]",
      "text/plain": [
       "<Figure size 432x288 with 1 Axes>"
      ]
     },
     "metadata": {
      "needs_background": "light"
     },
     "output_type": "display_data"
    }
   ],
   "source": [
    "plt.plot(t, sol[:, 0], 'b', label='x')\n",
    "plt.plot(t, sol[:, 1], 'g', label='y')\n",
    "plt.plot(t, sol[:, 2], 'r', label='z')\n",
    "plt.legend(loc='best')\n",
    "plt.xlabel('t')\n",
    "plt.grid()\n",
    "plt.show()"
   ]
  },
  {
   "cell_type": "code",
   "execution_count": 43,
   "metadata": {},
   "outputs": [
    {
     "data": {
      "image/png": "[encoded data removed]",
      "text/plain": [
       "<Figure size 432x288 with 1 Axes>"
      ]
     },
     "metadata": {
      "needs_background": "light"
     },
     "output_type": "display_data"
    },
    {
     "data": {
      "image/png": "[encoded data removed]",
      "text/plain": [
       "<Figure size 432x288 with 1 Axes>"
      ]
     },
     "metadata": {
      "needs_background": "light"
     },
     "output_type": "display_data"
    },
    {
     "data": {
      "image/png": "[encoded data removed]",
      "text/plain": [
       "<Figure size 432x288 with 1 Axes>"
      ]
     },
     "metadata": {
      "needs_background": "light"
     },
     "output_type": "display_data"
    }
   ],
   "source": [
    "x = []\n",
    "y = []\n",
    "z = [] \n",
    "\n",
    "for i in range(len(t)):\n",
    "    x.append(0.4*t[i])\n",
    "    y.append(0.4*sin(np.pi*t[i]))\n",
    "    z.append(0.6*cos(np.pi*t[i]))\n",
    "x.append(0.4*t[49]) \n",
    "y.append(0.4*sin(np.pi*t[49])) \n",
    "z.append(0.6*cos(np.pi*t[49])) \n",
    "plt.plot(t, x[1:], label='x_d')\n",
    "plt.plot(t, sol[:, 0], 'b', label='x')\n",
    "plt.legend(loc='best')\n",
    "plt.xlabel('t')\n",
    "plt.grid()\n",
    "plt.show()\n",
    "\n",
    "plt.plot(t, y[1:], label='y_d')\n",
    "plt.plot(t, sol[:, 1], 'g', label='y')\n",
    "plt.legend(loc='best')\n",
    "plt.xlabel('t')\n",
    "plt.grid()\n",
    "plt.show()\n",
    "\n",
    "plt.plot(t, z[1:], label='z_d')\n",
    "plt.plot(t, sol[:, 2], 'r', label='z')\n",
    "plt.legend(loc='best')\n",
    "plt.xlabel('t')\n",
    "plt.grid()\n",
    "plt.show()"
   ]
  },
  {
   "cell_type": "code",
   "execution_count": 44,
   "metadata": {},
   "outputs": [
    {
     "data": {
      "image/png": "[encoded data removed]",
      "text/plain": [
       "<Figure size 432x288 with 1 Axes>"
      ]
     },
     "metadata": {
      "needs_background": "light"
     },
     "output_type": "display_data"
    }
   ],
   "source": [
    "fig = plt.figure()\n",
    "ax = fig.gca(projection='3d')\n",
    "ax.plot(sol[:, 0], sol[:, 1], sol[:, 2], 'b')\n",
    "ax.plot(x, y, z, 'r')\n",
    "plt.xlabel('x')\n",
    "plt.show()"
   ]
  },
  {
   "cell_type": "code",
   "execution_count": null,
   "metadata": {},
   "outputs": [],
   "source": [
    "print(z[0])"
   ]
  },
  {
   "cell_type": "code",
   "execution_count": null,
   "metadata": {},
   "outputs": [],
   "source": []
  },
  {
   "cell_type": "code",
   "execution_count": null,
   "metadata": {},
   "outputs": [],
   "source": []
  },
  {
   "cell_type": "code",
   "execution_count": null,
   "metadata": {},
   "outputs": [],
   "source": [
    "sol = scipy.integrate.solve_ivp(step, [0, 5], y0, t_eval=np.linspace(0, 5, 100))"
   ]
  },
  {
   "cell_type": "code",
   "execution_count": null,
   "metadata": {},
   "outputs": [],
   "source": [
    "import matplotlib.pyplot as plt\n",
    "plt.plot(sol.t, sol.y[:][0], 'b', label='x')\n",
    "plt.plot(sol.t, sol.y[:][1], 'g', label='y')\n",
    "plt.plot(sol.t, sol.y[:][2], 'r', label='z')\n",
    "plt.legend(loc='best')\n",
    "plt.xlabel('t')\n",
    "plt.grid()\n",
    "plt.show()"
   ]
  },
  {
   "cell_type": "code",
   "execution_count": null,
   "metadata": {},
   "outputs": [],
   "source": [
    "sol.t[1]"
   ]
  },
  {
   "cell_type": "code",
   "execution_count": null,
   "metadata": {},
   "outputs": [],
   "source": [
    "x = [0]\n",
    "y = [0]\n",
    "z = [0]\n",
    "for i in range(len(sol.t)):\n",
    "    x.append(0.4*sol.t[i])\n",
    "    y.append(0.4*sin(np.pi*sol.t[i]))\n",
    "    z.append(0.6*cos(np.pi*sol.t[i]))\n"
   ]
  },
  {
   "cell_type": "code",
   "execution_count": null,
   "metadata": {},
   "outputs": [],
   "source": [
    "fig = plt.figure()\n",
    "ax = fig.gca(projection='3d')\n",
    "ax.plot(sol.y[:][0], sol.y[:][1], sol.y[:][2], 'b')\n",
    "ax.plot(x, y, z, 'r')\n",
    "plt.xlabel('x')\n",
    "plt.show()"
   ]
  },
  {
   "cell_type": "code",
   "execution_count": null,
   "metadata": {},
   "outputs": [],
   "source": [
    "print(len(sol.t))"
   ]
  },
  {
   "cell_type": "code",
   "execution_count": null,
   "metadata": {},
   "outputs": [],
   "source": [
    "print((sol.y).shape)\n",
    "# print(sol.y[1])\n",
    "# print(sol.y[2])"
   ]
  },
  {
   "cell_type": "code",
   "execution_count": null,
   "metadata": {},
   "outputs": [],
   "source": [
    "import matplotlib.pyplot as plt\n",
    "plt.plot(t, sol[:, 0], 'b', label='x')\n",
    "plt.plot(t, sol[:, 1], 'g', label='y')\n",
    "plt.plot(t, sol[:, 2], 'r', label='z')\n",
    "plt.legend(loc='best')\n",
    "plt.xlabel('t')\n",
    "plt.grid()\n",
    "plt.show()"
   ]
  },
  {
   "cell_type": "code",
   "execution_count": null,
   "metadata": {},
   "outputs": [],
   "source": []
  },
  {
   "cell_type": "code",
   "execution_count": null,
   "metadata": {},
   "outputs": [],
   "source": []
  },
  {
   "cell_type": "code",
   "execution_count": null,
   "metadata": {},
   "outputs": [],
   "source": []
  },
  {
   "cell_type": "code",
   "execution_count": null,
   "metadata": {},
   "outputs": [],
   "source": []
  },
  {
   "cell_type": "code",
   "execution_count": null,
   "metadata": {},
   "outputs": [],
   "source": [
    "def sample_action(s,t):\n",
    "    \n",
    "    des_pos = np.array([0.4*self.t, 0.4*sin(np.pi*self.t), 0.6*cos(np.pi*self.t)])\n",
    "    des_vel = np.array([0.4, 0.4* np.pi* cos(np.pi*self.t), -0.6*np.pi*sin(np.pi*self.t)])\n",
    "    des_acc = np.array([0, -0.4*np.pi*np.pi*sin(np.pi*self.t),-0.6*np.pi*np.pi*cos(np.pi*self.t)])  \n",
    "\n",
    "    b1d = np.array([1,0,0])\n",
    "    curr_pos = np.array([self.x_pos, self.y_pos, self.z_pos])\n",
    "    curr_vel = np.array([self.x_vel, self.y_vel, self.z_vel])\n",
    "    w = np.array([self.w1, self.w2, self.w3])\n",
    "    w_desired = np.array([0,0,0])\n",
    "\n",
    "    R_m = self.R.reshape((3,3))\n",
    "    b3 = R_m[:,2]\n",
    "\n",
    "    # parameters\n",
    "    k1 = np.diag([5, 5 ,9])\n",
    "    k2 = np.diag([5, 5 ,10])\n",
    "    kR = 200 #50\n",
    "    kOm = 1 #2.5\n",
    "\n",
    "    # Position Control\n",
    "    pos_e = np.subtract(curr_pos, des_pos)\n",
    "    vel_e = np.subtract(curr_vel, des_vel)\n",
    "#         print('q',-np.dot(k1,pos_e.T))\n",
    "    A = (-np.dot(k1,pos_e) -np.dot(k2,vel_e) + np.dot(m,des_acc) + np.dot(m*g,e3))\n",
    "\n",
    "\n",
    "#         A = (-k1*err_x - k2*err_v + mass*a_des + mass*g*e3)\n",
    "    b3_desired = A/np.linalg.norm(A) \n",
    "    f = np.dot(A,b3.T)\n",
    "    # Attitude Control\n",
    "\n",
    "    b2d = np.cross(b3_desired,b1d)\n",
    "#         print('b2d',b2d)\n",
    "#         print('b2d_norm',np.linalg.norm(b2d) )\n",
    "    if np.linalg.norm(b2d)==0:\n",
    "        b2d = np.array([0,1,0])\n",
    "    else:\n",
    "        b2d = b2d/np.linalg.norm(b2d) \n",
    "\n",
    "    projection_b1d = -np.cross(b3_desired,b2d)\n",
    "#         print('c1',np.cross(b2d,b3_desired))\n",
    "    Rd = np.array([np.cross(b2d,b3_desired), b2d,  b3_desired])\n",
    "\n",
    "    # calculating error in angular velocity and attitude\n",
    "    R_e = 1/2 * self.vee_map(np.dot(Rd.T, R_m) - np.dot(R_m.T, Rd))\n",
    "\n",
    "    Om_e = w - np.dot(R_m.T, np.dot(Rd,w_desired.T))\n",
    "\n",
    "    B = np.dot(R_m.T, np.dot(Rd.T, w_desired.T))\n",
    "\n",
    "    C = np.dot(self.hat_map(w), B)-B\n",
    "\n",
    "    M = np.dot(kR,R_e) - np.dot(kOm,Om_e) + np.cross(w, np.dot(J,w)) - np.dot(J,C)\n",
    "#         print(M) \n",
    "\n",
    "    return np.concatenate((f,M), axis=None)\n"
   ]
  },
  {
   "cell_type": "code",
   "execution_count": null,
   "metadata": {},
   "outputs": [],
   "source": [
    "f = 1\n",
    "\n",
    "R = np.array(R0).reshape((3, 3))\n",
    "\n",
    "R = R.reshape((1, 9))\n",
    "print(type(R))\n",
    "print(R)\n",
    "# print((f/m)*R)\n",
    "# v_dot = np.dot(-g,e3) + np.dot((f/m)*R, e3)\n",
    "# print(v_dot[2])"
   ]
  },
  {
   "cell_type": "code",
   "execution_count": null,
   "metadata": {},
   "outputs": [],
   "source": [
    "np.cross(e1,e2)"
   ]
  },
  {
   "cell_type": "code",
   "execution_count": null,
   "metadata": {},
   "outputs": [],
   "source": [
    "t = np.array([1,\n",
    "    2,\n",
    "    5])\n",
    "np.diag(J)[0]"
   ]
  },
  {
   "cell_type": "code",
   "execution_count": null,
   "metadata": {},
   "outputs": [],
   "source": [
    "np.linalg.norm(t)"
   ]
  },
  {
   "cell_type": "code",
   "execution_count": null,
   "metadata": {},
   "outputs": [],
   "source": [
    "np.sqrt(30)"
   ]
  },
  {
   "cell_type": "code",
   "execution_count": 61,
   "metadata": {},
   "outputs": [
    {
     "data": {
      "text/plain": [
       "array([0.   , 0.   , 0.105])"
      ]
     },
     "execution_count": 61,
     "metadata": {},
     "output_type": "execute_result"
    }
   ],
   "source": [
    "J[:,2]"
   ]
  },
  {
   "cell_type": "code",
   "execution_count": null,
   "metadata": {},
   "outputs": [],
   "source": [
    "\n",
    "h = [e1,e2,e3]\n",
    "h = np.concatenate((5,h), axis=None)\n",
    "print(h)"
   ]
  },
  {
   "cell_type": "code",
   "execution_count": null,
   "metadata": {},
   "outputs": [],
   "source": [
    "np.dot(5,e1)"
   ]
  },
  {
   "cell_type": "code",
   "execution_count": null,
   "metadata": {},
   "outputs": [],
   "source": [
    "v = np.array([1, 0, 0, 0, -0.9995, -0.0314, 0, 0.0314, -0.9995])"
   ]
  },
  {
   "cell_type": "code",
   "execution_count": null,
   "metadata": {},
   "outputs": [],
   "source": [
    "np.dot(5,v) == 5*v"
   ]
  },
  {
   "cell_type": "code",
   "execution_count": null,
   "metadata": {},
   "outputs": [],
   "source": [
    "J/np.linalg.norm(J)"
   ]
  },
  {
   "cell_type": "code",
   "execution_count": null,
   "metadata": {},
   "outputs": [],
   "source": [
    "w_desired = np.array([0,0,0])\n"
   ]
  },
  {
   "cell_type": "code",
   "execution_count": null,
   "metadata": {},
   "outputs": [],
   "source": [
    "np.transpose(w_desired)"
   ]
  },
  {
   "cell_type": "code",
   "execution_count": null,
   "metadata": {},
   "outputs": [],
   "source": [
    "a = np.array([0,1,1])\n",
    "print(J)\n",
    "np.dot(J,a.T)"
   ]
  },
  {
   "cell_type": "code",
   "execution_count": null,
   "metadata": {},
   "outputs": [],
   "source": [
    "a*1/3"
   ]
  },
  {
   "cell_type": "code",
   "execution_count": null,
   "metadata": {},
   "outputs": [],
   "source": []
  }
 ],
 "metadata": {
  "kernelspec": {
   "display_name": "Python 3",
   "language": "python",
   "name": "python3"
  },
  "language_info": {
   "codemirror_mode": {
    "name": "ipython",
    "version": 3
   },
   "file_extension": ".py",
   "mimetype": "text/x-python",
   "name": "python",
   "nbconvert_exporter": "python",
   "pygments_lexer": "ipython3",
   "version": "3.6.7"
  }
 },
 "nbformat": 4,
 "nbformat_minor": 4
}
